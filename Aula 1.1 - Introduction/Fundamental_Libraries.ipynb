{
 "cells": [
  {
   "cell_type": "markdown",
   "metadata": {},
   "source": [
    "#### Imports"
   ]
  },
  {
   "cell_type": "code",
   "execution_count": 27,
   "metadata": {},
   "outputs": [],
   "source": [
    "import pandas as pd\n",
    "import numpy as np\n",
    "import matplotlib.pyplot as plt"
   ]
  },
  {
   "cell_type": "markdown",
   "metadata": {},
   "source": [
    "#### Code"
   ]
  },
  {
   "cell_type": "code",
   "execution_count": 28,
   "metadata": {},
   "outputs": [],
   "source": [
    "chess_df = pd.read_excel(\"bases/Chess.xlsx\", sheet_name=\"Chess\")\n",
    "tomato_df = pd.read_csv(\"bases/Tomato.csv\", sep=\",\")"
   ]
  },
  {
   "cell_type": "code",
   "execution_count": 29,
   "metadata": {},
   "outputs": [
    {
     "name": "stdout",
     "output_type": "stream",
     "text": [
      "Chess\n",
      "\n",
      "Shape:  (20058, 14)\n",
      "<class 'pandas.core.frame.DataFrame'>\n",
      "RangeIndex: 20058 entries, 0 to 20057\n",
      "Data columns (total 14 columns):\n",
      " #   Column          Non-Null Count  Dtype  \n",
      "---  ------          --------------  -----  \n",
      " 0   rated           20058 non-null  bool   \n",
      " 1   created_at      20058 non-null  float64\n",
      " 2   last_move_at    20058 non-null  float64\n",
      " 3   turns           20058 non-null  int64  \n",
      " 4   victory_status  20058 non-null  object \n",
      " 5   winner          20058 non-null  object \n",
      " 6   increment_code  20058 non-null  object \n",
      " 7   white_id        20058 non-null  object \n",
      " 8   white_rating    20058 non-null  int64  \n",
      " 9   black_id        20058 non-null  object \n",
      " 10  black_rating    20058 non-null  int64  \n",
      " 11  opening_eco     20058 non-null  object \n",
      " 12  opening_name    20058 non-null  object \n",
      " 13  opening_ply     20058 non-null  int64  \n",
      "dtypes: bool(1), float64(2), int64(4), object(7)\n",
      "memory usage: 2.0+ MB\n"
     ]
    },
    {
     "data": {
      "text/html": [
       "<div>\n",
       "<style scoped>\n",
       "    .dataframe tbody tr th:only-of-type {\n",
       "        vertical-align: middle;\n",
       "    }\n",
       "\n",
       "    .dataframe tbody tr th {\n",
       "        vertical-align: top;\n",
       "    }\n",
       "\n",
       "    .dataframe thead th {\n",
       "        text-align: right;\n",
       "    }\n",
       "</style>\n",
       "<table border=\"1\" class=\"dataframe\">\n",
       "  <thead>\n",
       "    <tr style=\"text-align: right;\">\n",
       "      <th></th>\n",
       "      <th>created_at</th>\n",
       "      <th>last_move_at</th>\n",
       "      <th>turns</th>\n",
       "      <th>white_rating</th>\n",
       "      <th>black_rating</th>\n",
       "      <th>opening_ply</th>\n",
       "    </tr>\n",
       "  </thead>\n",
       "  <tbody>\n",
       "    <tr>\n",
       "      <th>count</th>\n",
       "      <td>2.005800e+04</td>\n",
       "      <td>2.005800e+04</td>\n",
       "      <td>20058.000000</td>\n",
       "      <td>20058.000000</td>\n",
       "      <td>20058.000000</td>\n",
       "      <td>20058.000000</td>\n",
       "    </tr>\n",
       "    <tr>\n",
       "      <th>mean</th>\n",
       "      <td>6.321335e+16</td>\n",
       "      <td>6.313080e+16</td>\n",
       "      <td>60.465999</td>\n",
       "      <td>1596.631868</td>\n",
       "      <td>1588.831987</td>\n",
       "      <td>4.816981</td>\n",
       "    </tr>\n",
       "    <tr>\n",
       "      <th>std</th>\n",
       "      <td>7.292307e+16</td>\n",
       "      <td>7.290633e+16</td>\n",
       "      <td>33.570585</td>\n",
       "      <td>291.253376</td>\n",
       "      <td>291.036126</td>\n",
       "      <td>2.797152</td>\n",
       "    </tr>\n",
       "    <tr>\n",
       "      <th>min</th>\n",
       "      <td>1.376772e+12</td>\n",
       "      <td>1.376772e+12</td>\n",
       "      <td>1.000000</td>\n",
       "      <td>784.000000</td>\n",
       "      <td>789.000000</td>\n",
       "      <td>1.000000</td>\n",
       "    </tr>\n",
       "    <tr>\n",
       "      <th>25%</th>\n",
       "      <td>1.498313e+12</td>\n",
       "      <td>1.498315e+12</td>\n",
       "      <td>37.000000</td>\n",
       "      <td>1398.000000</td>\n",
       "      <td>1391.000000</td>\n",
       "      <td>3.000000</td>\n",
       "    </tr>\n",
       "    <tr>\n",
       "      <th>50%</th>\n",
       "      <td>1.504366e+12</td>\n",
       "      <td>1.504367e+12</td>\n",
       "      <td>55.000000</td>\n",
       "      <td>1567.000000</td>\n",
       "      <td>1562.000000</td>\n",
       "      <td>4.000000</td>\n",
       "    </tr>\n",
       "    <tr>\n",
       "      <th>75%</th>\n",
       "      <td>1.486680e+17</td>\n",
       "      <td>1.486680e+17</td>\n",
       "      <td>79.000000</td>\n",
       "      <td>1793.000000</td>\n",
       "      <td>1784.000000</td>\n",
       "      <td>6.000000</td>\n",
       "    </tr>\n",
       "    <tr>\n",
       "      <th>max</th>\n",
       "      <td>1.504470e+17</td>\n",
       "      <td>1.504470e+17</td>\n",
       "      <td>349.000000</td>\n",
       "      <td>2700.000000</td>\n",
       "      <td>2723.000000</td>\n",
       "      <td>28.000000</td>\n",
       "    </tr>\n",
       "  </tbody>\n",
       "</table>\n",
       "</div>"
      ],
      "text/plain": [
       "         created_at  last_move_at         turns  white_rating  black_rating  \\\n",
       "count  2.005800e+04  2.005800e+04  20058.000000  20058.000000  20058.000000   \n",
       "mean   6.321335e+16  6.313080e+16     60.465999   1596.631868   1588.831987   \n",
       "std    7.292307e+16  7.290633e+16     33.570585    291.253376    291.036126   \n",
       "min    1.376772e+12  1.376772e+12      1.000000    784.000000    789.000000   \n",
       "25%    1.498313e+12  1.498315e+12     37.000000   1398.000000   1391.000000   \n",
       "50%    1.504366e+12  1.504367e+12     55.000000   1567.000000   1562.000000   \n",
       "75%    1.486680e+17  1.486680e+17     79.000000   1793.000000   1784.000000   \n",
       "max    1.504470e+17  1.504470e+17    349.000000   2700.000000   2723.000000   \n",
       "\n",
       "        opening_ply  \n",
       "count  20058.000000  \n",
       "mean       4.816981  \n",
       "std        2.797152  \n",
       "min        1.000000  \n",
       "25%        3.000000  \n",
       "50%        4.000000  \n",
       "75%        6.000000  \n",
       "max       28.000000  "
      ]
     },
     "execution_count": 29,
     "metadata": {},
     "output_type": "execute_result"
    }
   ],
   "source": [
    "print(\"Chess\\n\")\n",
    "print(\"Shape: \",chess_df.shape)\n",
    "chess_df.info()\n",
    "chess_df.describe()"
   ]
  },
  {
   "cell_type": "code",
   "execution_count": 30,
   "metadata": {},
   "outputs": [
    {
     "name": "stdout",
     "output_type": "stream",
     "text": [
      "Tomato\n",
      "\n",
      "Shape:  (2741, 6)\n",
      "<class 'pandas.core.frame.DataFrame'>\n",
      "RangeIndex: 2741 entries, 0 to 2740\n",
      "Data columns (total 6 columns):\n",
      " #   Column   Non-Null Count  Dtype  \n",
      "---  ------   --------------  -----  \n",
      " 0   Date     2741 non-null   object \n",
      " 1   Unit     2741 non-null   object \n",
      " 2   Minimum  2741 non-null   int64  \n",
      " 3   Maximum  2741 non-null   int64  \n",
      " 4   Average  2741 non-null   float64\n",
      " 5   Market   2741 non-null   object \n",
      "dtypes: float64(1), int64(2), object(3)\n",
      "memory usage: 128.6+ KB\n"
     ]
    },
    {
     "data": {
      "text/html": [
       "<div>\n",
       "<style scoped>\n",
       "    .dataframe tbody tr th:only-of-type {\n",
       "        vertical-align: middle;\n",
       "    }\n",
       "\n",
       "    .dataframe tbody tr th {\n",
       "        vertical-align: top;\n",
       "    }\n",
       "\n",
       "    .dataframe thead th {\n",
       "        text-align: right;\n",
       "    }\n",
       "</style>\n",
       "<table border=\"1\" class=\"dataframe\">\n",
       "  <thead>\n",
       "    <tr style=\"text-align: right;\">\n",
       "      <th></th>\n",
       "      <th>Minimum</th>\n",
       "      <th>Maximum</th>\n",
       "      <th>Average</th>\n",
       "    </tr>\n",
       "  </thead>\n",
       "  <tbody>\n",
       "    <tr>\n",
       "      <th>count</th>\n",
       "      <td>2741.000000</td>\n",
       "      <td>2741.000000</td>\n",
       "      <td>2741.000000</td>\n",
       "    </tr>\n",
       "    <tr>\n",
       "      <th>mean</th>\n",
       "      <td>35.089748</td>\n",
       "      <td>41.281284</td>\n",
       "      <td>38.185516</td>\n",
       "    </tr>\n",
       "    <tr>\n",
       "      <th>std</th>\n",
       "      <td>16.648425</td>\n",
       "      <td>17.364135</td>\n",
       "      <td>16.970949</td>\n",
       "    </tr>\n",
       "    <tr>\n",
       "      <th>min</th>\n",
       "      <td>8.000000</td>\n",
       "      <td>12.000000</td>\n",
       "      <td>10.000000</td>\n",
       "    </tr>\n",
       "    <tr>\n",
       "      <th>25%</th>\n",
       "      <td>22.000000</td>\n",
       "      <td>30.000000</td>\n",
       "      <td>25.000000</td>\n",
       "    </tr>\n",
       "    <tr>\n",
       "      <th>50%</th>\n",
       "      <td>30.000000</td>\n",
       "      <td>38.000000</td>\n",
       "      <td>35.000000</td>\n",
       "    </tr>\n",
       "    <tr>\n",
       "      <th>75%</th>\n",
       "      <td>45.000000</td>\n",
       "      <td>50.000000</td>\n",
       "      <td>47.500000</td>\n",
       "    </tr>\n",
       "    <tr>\n",
       "      <th>max</th>\n",
       "      <td>115.000000</td>\n",
       "      <td>120.000000</td>\n",
       "      <td>117.500000</td>\n",
       "    </tr>\n",
       "  </tbody>\n",
       "</table>\n",
       "</div>"
      ],
      "text/plain": [
       "           Minimum      Maximum      Average\n",
       "count  2741.000000  2741.000000  2741.000000\n",
       "mean     35.089748    41.281284    38.185516\n",
       "std      16.648425    17.364135    16.970949\n",
       "min       8.000000    12.000000    10.000000\n",
       "25%      22.000000    30.000000    25.000000\n",
       "50%      30.000000    38.000000    35.000000\n",
       "75%      45.000000    50.000000    47.500000\n",
       "max     115.000000   120.000000   117.500000"
      ]
     },
     "execution_count": 30,
     "metadata": {},
     "output_type": "execute_result"
    }
   ],
   "source": [
    "print(\"Tomato\\n\")\n",
    "print(\"Shape: \",tomato_df.shape)\n",
    "tomato_df.info()\n",
    "tomato_df.describe()"
   ]
  },
  {
   "cell_type": "markdown",
   "metadata": {},
   "source": [
    "Testing some dataframe functions"
   ]
  },
  {
   "cell_type": "code",
   "execution_count": 31,
   "metadata": {},
   "outputs": [
    {
     "data": {
      "text/plain": [
       "{'draw', 'mate', 'outoftime', 'resign'}"
      ]
     },
     "execution_count": 31,
     "metadata": {},
     "output_type": "execute_result"
    }
   ],
   "source": [
    "set(chess_df[\"victory_status\"])"
   ]
  },
  {
   "cell_type": "code",
   "execution_count": 32,
   "metadata": {},
   "outputs": [],
   "source": [
    "def categorizar_tomate(average):\n",
    "    \n",
    "    if average >= 40 and average <= 70:\n",
    "        return \"tomate medio\"\n",
    "    elif average < 40:\n",
    "        return \"tomate pequeno\"\n",
    "    else:\n",
    "        return \"tomate grande\""
   ]
  },
  {
   "cell_type": "code",
   "execution_count": 33,
   "metadata": {},
   "outputs": [
    {
     "data": {
      "text/html": [
       "<div>\n",
       "<style scoped>\n",
       "    .dataframe tbody tr th:only-of-type {\n",
       "        vertical-align: middle;\n",
       "    }\n",
       "\n",
       "    .dataframe tbody tr th {\n",
       "        vertical-align: top;\n",
       "    }\n",
       "\n",
       "    .dataframe thead th {\n",
       "        text-align: right;\n",
       "    }\n",
       "</style>\n",
       "<table border=\"1\" class=\"dataframe\">\n",
       "  <thead>\n",
       "    <tr style=\"text-align: right;\">\n",
       "      <th></th>\n",
       "      <th>Date</th>\n",
       "      <th>Unit</th>\n",
       "      <th>Minimum</th>\n",
       "      <th>Maximum</th>\n",
       "      <th>Average</th>\n",
       "      <th>Market</th>\n",
       "      <th>Category_tomato</th>\n",
       "    </tr>\n",
       "  </thead>\n",
       "  <tbody>\n",
       "    <tr>\n",
       "      <th>0</th>\n",
       "      <td>2013-06-16</td>\n",
       "      <td>Kg</td>\n",
       "      <td>26</td>\n",
       "      <td>32</td>\n",
       "      <td>29.0</td>\n",
       "      <td>Tomato</td>\n",
       "      <td>tomate pequeno</td>\n",
       "    </tr>\n",
       "    <tr>\n",
       "      <th>1</th>\n",
       "      <td>2013-06-17</td>\n",
       "      <td>Kg</td>\n",
       "      <td>20</td>\n",
       "      <td>25</td>\n",
       "      <td>22.5</td>\n",
       "      <td>Tomato</td>\n",
       "      <td>tomate pequeno</td>\n",
       "    </tr>\n",
       "    <tr>\n",
       "      <th>2</th>\n",
       "      <td>2013-06-18</td>\n",
       "      <td>Kg</td>\n",
       "      <td>22</td>\n",
       "      <td>26</td>\n",
       "      <td>24.0</td>\n",
       "      <td>Tomato</td>\n",
       "      <td>tomate pequeno</td>\n",
       "    </tr>\n",
       "    <tr>\n",
       "      <th>3</th>\n",
       "      <td>2013-06-19</td>\n",
       "      <td>Kg</td>\n",
       "      <td>24</td>\n",
       "      <td>28</td>\n",
       "      <td>26.0</td>\n",
       "      <td>Tomato</td>\n",
       "      <td>tomate pequeno</td>\n",
       "    </tr>\n",
       "    <tr>\n",
       "      <th>4</th>\n",
       "      <td>2013-06-20</td>\n",
       "      <td>Kg</td>\n",
       "      <td>22</td>\n",
       "      <td>26</td>\n",
       "      <td>24.0</td>\n",
       "      <td>Tomato</td>\n",
       "      <td>tomate pequeno</td>\n",
       "    </tr>\n",
       "    <tr>\n",
       "      <th>...</th>\n",
       "      <td>...</td>\n",
       "      <td>...</td>\n",
       "      <td>...</td>\n",
       "      <td>...</td>\n",
       "      <td>...</td>\n",
       "      <td>...</td>\n",
       "      <td>...</td>\n",
       "    </tr>\n",
       "    <tr>\n",
       "      <th>2736</th>\n",
       "      <td>2021-05-09</td>\n",
       "      <td>Kg</td>\n",
       "      <td>10</td>\n",
       "      <td>15</td>\n",
       "      <td>12.5</td>\n",
       "      <td>Tomato</td>\n",
       "      <td>tomate pequeno</td>\n",
       "    </tr>\n",
       "    <tr>\n",
       "      <th>2737</th>\n",
       "      <td>2021-05-10</td>\n",
       "      <td>Kg</td>\n",
       "      <td>10</td>\n",
       "      <td>15</td>\n",
       "      <td>12.5</td>\n",
       "      <td>Tomato</td>\n",
       "      <td>tomate pequeno</td>\n",
       "    </tr>\n",
       "    <tr>\n",
       "      <th>2738</th>\n",
       "      <td>2021-05-11</td>\n",
       "      <td>Kg</td>\n",
       "      <td>10</td>\n",
       "      <td>15</td>\n",
       "      <td>12.5</td>\n",
       "      <td>Tomato</td>\n",
       "      <td>tomate pequeno</td>\n",
       "    </tr>\n",
       "    <tr>\n",
       "      <th>2739</th>\n",
       "      <td>2021-05-12</td>\n",
       "      <td>Kg</td>\n",
       "      <td>30</td>\n",
       "      <td>35</td>\n",
       "      <td>32.5</td>\n",
       "      <td>Tomato</td>\n",
       "      <td>tomate pequeno</td>\n",
       "    </tr>\n",
       "    <tr>\n",
       "      <th>2740</th>\n",
       "      <td>2021-05-13</td>\n",
       "      <td>Kg</td>\n",
       "      <td>35</td>\n",
       "      <td>40</td>\n",
       "      <td>37.5</td>\n",
       "      <td>Tomato</td>\n",
       "      <td>tomate pequeno</td>\n",
       "    </tr>\n",
       "  </tbody>\n",
       "</table>\n",
       "<p>2741 rows × 7 columns</p>\n",
       "</div>"
      ],
      "text/plain": [
       "            Date Unit  Minimum  Maximum  Average  Market Category_tomato\n",
       "0     2013-06-16   Kg       26       32     29.0  Tomato  tomate pequeno\n",
       "1     2013-06-17   Kg       20       25     22.5  Tomato  tomate pequeno\n",
       "2     2013-06-18   Kg       22       26     24.0  Tomato  tomate pequeno\n",
       "3     2013-06-19   Kg       24       28     26.0  Tomato  tomate pequeno\n",
       "4     2013-06-20   Kg       22       26     24.0  Tomato  tomate pequeno\n",
       "...          ...  ...      ...      ...      ...     ...             ...\n",
       "2736  2021-05-09   Kg       10       15     12.5  Tomato  tomate pequeno\n",
       "2737  2021-05-10   Kg       10       15     12.5  Tomato  tomate pequeno\n",
       "2738  2021-05-11   Kg       10       15     12.5  Tomato  tomate pequeno\n",
       "2739  2021-05-12   Kg       30       35     32.5  Tomato  tomate pequeno\n",
       "2740  2021-05-13   Kg       35       40     37.5  Tomato  tomate pequeno\n",
       "\n",
       "[2741 rows x 7 columns]"
      ]
     },
     "execution_count": 33,
     "metadata": {},
     "output_type": "execute_result"
    }
   ],
   "source": [
    "tomato_df[\"Category_tomato\"] = tomato_df[\"Average\"].apply(categorizar_tomate)\n",
    "tomato_df"
   ]
  },
  {
   "cell_type": "code",
   "execution_count": 34,
   "metadata": {},
   "outputs": [
    {
     "data": {
      "text/html": [
       "<div>\n",
       "<style scoped>\n",
       "    .dataframe tbody tr th:only-of-type {\n",
       "        vertical-align: middle;\n",
       "    }\n",
       "\n",
       "    .dataframe tbody tr th {\n",
       "        vertical-align: top;\n",
       "    }\n",
       "\n",
       "    .dataframe thead tr th {\n",
       "        text-align: left;\n",
       "    }\n",
       "\n",
       "    .dataframe thead tr:last-of-type th {\n",
       "        text-align: right;\n",
       "    }\n",
       "</style>\n",
       "<table border=\"1\" class=\"dataframe\">\n",
       "  <thead>\n",
       "    <tr>\n",
       "      <th></th>\n",
       "      <th colspan=\"8\" halign=\"left\">Minimum</th>\n",
       "      <th colspan=\"5\" halign=\"left\">Maximum</th>\n",
       "      <th colspan=\"8\" halign=\"left\">Average</th>\n",
       "    </tr>\n",
       "    <tr>\n",
       "      <th></th>\n",
       "      <th>count</th>\n",
       "      <th>mean</th>\n",
       "      <th>std</th>\n",
       "      <th>min</th>\n",
       "      <th>25%</th>\n",
       "      <th>50%</th>\n",
       "      <th>75%</th>\n",
       "      <th>max</th>\n",
       "      <th>count</th>\n",
       "      <th>mean</th>\n",
       "      <th>...</th>\n",
       "      <th>75%</th>\n",
       "      <th>max</th>\n",
       "      <th>count</th>\n",
       "      <th>mean</th>\n",
       "      <th>std</th>\n",
       "      <th>min</th>\n",
       "      <th>25%</th>\n",
       "      <th>50%</th>\n",
       "      <th>75%</th>\n",
       "      <th>max</th>\n",
       "    </tr>\n",
       "    <tr>\n",
       "      <th>Category_tomato</th>\n",
       "      <th></th>\n",
       "      <th></th>\n",
       "      <th></th>\n",
       "      <th></th>\n",
       "      <th></th>\n",
       "      <th></th>\n",
       "      <th></th>\n",
       "      <th></th>\n",
       "      <th></th>\n",
       "      <th></th>\n",
       "      <th></th>\n",
       "      <th></th>\n",
       "      <th></th>\n",
       "      <th></th>\n",
       "      <th></th>\n",
       "      <th></th>\n",
       "      <th></th>\n",
       "      <th></th>\n",
       "      <th></th>\n",
       "      <th></th>\n",
       "      <th></th>\n",
       "    </tr>\n",
       "  </thead>\n",
       "  <tbody>\n",
       "    <tr>\n",
       "      <th>tomate grande</th>\n",
       "      <td>149.0</td>\n",
       "      <td>75.744966</td>\n",
       "      <td>7.324666</td>\n",
       "      <td>65.0</td>\n",
       "      <td>70.0</td>\n",
       "      <td>75.0</td>\n",
       "      <td>80.0</td>\n",
       "      <td>115.0</td>\n",
       "      <td>149.0</td>\n",
       "      <td>82.583893</td>\n",
       "      <td>...</td>\n",
       "      <td>85.0</td>\n",
       "      <td>120.0</td>\n",
       "      <td>149.0</td>\n",
       "      <td>79.164430</td>\n",
       "      <td>7.367396</td>\n",
       "      <td>70.5</td>\n",
       "      <td>75.0</td>\n",
       "      <td>77.5</td>\n",
       "      <td>82.5</td>\n",
       "      <td>117.5</td>\n",
       "    </tr>\n",
       "    <tr>\n",
       "      <th>tomate medio</th>\n",
       "      <td>954.0</td>\n",
       "      <td>47.818658</td>\n",
       "      <td>8.203065</td>\n",
       "      <td>30.0</td>\n",
       "      <td>40.0</td>\n",
       "      <td>45.0</td>\n",
       "      <td>55.0</td>\n",
       "      <td>65.0</td>\n",
       "      <td>954.0</td>\n",
       "      <td>55.009434</td>\n",
       "      <td>...</td>\n",
       "      <td>60.0</td>\n",
       "      <td>75.0</td>\n",
       "      <td>954.0</td>\n",
       "      <td>51.414046</td>\n",
       "      <td>8.272792</td>\n",
       "      <td>40.0</td>\n",
       "      <td>45.0</td>\n",
       "      <td>50.0</td>\n",
       "      <td>57.5</td>\n",
       "      <td>70.0</td>\n",
       "    </tr>\n",
       "    <tr>\n",
       "      <th>tomate pequeno</th>\n",
       "      <td>1638.0</td>\n",
       "      <td>23.978022</td>\n",
       "      <td>7.175572</td>\n",
       "      <td>8.0</td>\n",
       "      <td>18.0</td>\n",
       "      <td>25.0</td>\n",
       "      <td>30.0</td>\n",
       "      <td>38.0</td>\n",
       "      <td>1638.0</td>\n",
       "      <td>29.528694</td>\n",
       "      <td>...</td>\n",
       "      <td>35.0</td>\n",
       "      <td>44.0</td>\n",
       "      <td>1638.0</td>\n",
       "      <td>26.753358</td>\n",
       "      <td>7.191735</td>\n",
       "      <td>10.0</td>\n",
       "      <td>21.5</td>\n",
       "      <td>27.5</td>\n",
       "      <td>32.5</td>\n",
       "      <td>39.5</td>\n",
       "    </tr>\n",
       "  </tbody>\n",
       "</table>\n",
       "<p>3 rows × 24 columns</p>\n",
       "</div>"
      ],
      "text/plain": [
       "                Minimum                                                      \\\n",
       "                  count       mean       std   min   25%   50%   75%    max   \n",
       "Category_tomato                                                               \n",
       "tomate grande     149.0  75.744966  7.324666  65.0  70.0  75.0  80.0  115.0   \n",
       "tomate medio      954.0  47.818658  8.203065  30.0  40.0  45.0  55.0   65.0   \n",
       "tomate pequeno   1638.0  23.978022  7.175572   8.0  18.0  25.0  30.0   38.0   \n",
       "\n",
       "                Maximum             ...              Average             \\\n",
       "                  count       mean  ...   75%    max   count       mean   \n",
       "Category_tomato                     ...                                   \n",
       "tomate grande     149.0  82.583893  ...  85.0  120.0   149.0  79.164430   \n",
       "tomate medio      954.0  55.009434  ...  60.0   75.0   954.0  51.414046   \n",
       "tomate pequeno   1638.0  29.528694  ...  35.0   44.0  1638.0  26.753358   \n",
       "\n",
       "                                                          \n",
       "                      std   min   25%   50%   75%    max  \n",
       "Category_tomato                                           \n",
       "tomate grande    7.367396  70.5  75.0  77.5  82.5  117.5  \n",
       "tomate medio     8.272792  40.0  45.0  50.0  57.5   70.0  \n",
       "tomate pequeno   7.191735  10.0  21.5  27.5  32.5   39.5  \n",
       "\n",
       "[3 rows x 24 columns]"
      ]
     },
     "execution_count": 34,
     "metadata": {},
     "output_type": "execute_result"
    }
   ],
   "source": [
    "tomato_df.groupby([\"Category_tomato\"]).describe()"
   ]
  },
  {
   "cell_type": "code",
   "execution_count": 35,
   "metadata": {},
   "outputs": [
    {
     "data": {
      "text/html": [
       "<div>\n",
       "<style scoped>\n",
       "    .dataframe tbody tr th:only-of-type {\n",
       "        vertical-align: middle;\n",
       "    }\n",
       "\n",
       "    .dataframe tbody tr th {\n",
       "        vertical-align: top;\n",
       "    }\n",
       "\n",
       "    .dataframe thead th {\n",
       "        text-align: right;\n",
       "    }\n",
       "</style>\n",
       "<table border=\"1\" class=\"dataframe\">\n",
       "  <thead>\n",
       "    <tr style=\"text-align: right;\">\n",
       "      <th></th>\n",
       "      <th>Date</th>\n",
       "      <th>Unit</th>\n",
       "      <th>Minimum</th>\n",
       "      <th>Maximum</th>\n",
       "      <th>Average</th>\n",
       "      <th>Market</th>\n",
       "      <th>Category_tomato</th>\n",
       "    </tr>\n",
       "  </thead>\n",
       "  <tbody>\n",
       "    <tr>\n",
       "      <th>0</th>\n",
       "      <td>2013-06-16</td>\n",
       "      <td>Kg</td>\n",
       "      <td>26</td>\n",
       "      <td>32</td>\n",
       "      <td>29.0</td>\n",
       "      <td>Tomato</td>\n",
       "      <td>tomate pequeno</td>\n",
       "    </tr>\n",
       "    <tr>\n",
       "      <th>1</th>\n",
       "      <td>2013-06-17</td>\n",
       "      <td>Kg</td>\n",
       "      <td>20</td>\n",
       "      <td>25</td>\n",
       "      <td>22.5</td>\n",
       "      <td>Tomato</td>\n",
       "      <td>tomate pequeno</td>\n",
       "    </tr>\n",
       "    <tr>\n",
       "      <th>2</th>\n",
       "      <td>2013-06-18</td>\n",
       "      <td>Kg</td>\n",
       "      <td>22</td>\n",
       "      <td>26</td>\n",
       "      <td>24.0</td>\n",
       "      <td>Tomato</td>\n",
       "      <td>tomate pequeno</td>\n",
       "    </tr>\n",
       "    <tr>\n",
       "      <th>3</th>\n",
       "      <td>2013-06-19</td>\n",
       "      <td>Kg</td>\n",
       "      <td>24</td>\n",
       "      <td>28</td>\n",
       "      <td>26.0</td>\n",
       "      <td>Tomato</td>\n",
       "      <td>tomate pequeno</td>\n",
       "    </tr>\n",
       "    <tr>\n",
       "      <th>4</th>\n",
       "      <td>2013-06-20</td>\n",
       "      <td>Kg</td>\n",
       "      <td>22</td>\n",
       "      <td>26</td>\n",
       "      <td>24.0</td>\n",
       "      <td>Tomato</td>\n",
       "      <td>tomate pequeno</td>\n",
       "    </tr>\n",
       "    <tr>\n",
       "      <th>...</th>\n",
       "      <td>...</td>\n",
       "      <td>...</td>\n",
       "      <td>...</td>\n",
       "      <td>...</td>\n",
       "      <td>...</td>\n",
       "      <td>...</td>\n",
       "      <td>...</td>\n",
       "    </tr>\n",
       "    <tr>\n",
       "      <th>2736</th>\n",
       "      <td>2021-05-09</td>\n",
       "      <td>Kg</td>\n",
       "      <td>10</td>\n",
       "      <td>15</td>\n",
       "      <td>12.5</td>\n",
       "      <td>Tomato</td>\n",
       "      <td>tomate pequeno</td>\n",
       "    </tr>\n",
       "    <tr>\n",
       "      <th>2737</th>\n",
       "      <td>2021-05-10</td>\n",
       "      <td>Kg</td>\n",
       "      <td>10</td>\n",
       "      <td>15</td>\n",
       "      <td>12.5</td>\n",
       "      <td>Tomato</td>\n",
       "      <td>tomate pequeno</td>\n",
       "    </tr>\n",
       "    <tr>\n",
       "      <th>2738</th>\n",
       "      <td>2021-05-11</td>\n",
       "      <td>Kg</td>\n",
       "      <td>10</td>\n",
       "      <td>15</td>\n",
       "      <td>12.5</td>\n",
       "      <td>Tomato</td>\n",
       "      <td>tomate pequeno</td>\n",
       "    </tr>\n",
       "    <tr>\n",
       "      <th>2739</th>\n",
       "      <td>2021-05-12</td>\n",
       "      <td>Kg</td>\n",
       "      <td>30</td>\n",
       "      <td>35</td>\n",
       "      <td>32.5</td>\n",
       "      <td>Tomato</td>\n",
       "      <td>tomate pequeno</td>\n",
       "    </tr>\n",
       "    <tr>\n",
       "      <th>2740</th>\n",
       "      <td>2021-05-13</td>\n",
       "      <td>Kg</td>\n",
       "      <td>35</td>\n",
       "      <td>40</td>\n",
       "      <td>37.5</td>\n",
       "      <td>Tomato</td>\n",
       "      <td>tomate pequeno</td>\n",
       "    </tr>\n",
       "  </tbody>\n",
       "</table>\n",
       "<p>1638 rows × 7 columns</p>\n",
       "</div>"
      ],
      "text/plain": [
       "            Date Unit  Minimum  Maximum  Average  Market Category_tomato\n",
       "0     2013-06-16   Kg       26       32     29.0  Tomato  tomate pequeno\n",
       "1     2013-06-17   Kg       20       25     22.5  Tomato  tomate pequeno\n",
       "2     2013-06-18   Kg       22       26     24.0  Tomato  tomate pequeno\n",
       "3     2013-06-19   Kg       24       28     26.0  Tomato  tomate pequeno\n",
       "4     2013-06-20   Kg       22       26     24.0  Tomato  tomate pequeno\n",
       "...          ...  ...      ...      ...      ...     ...             ...\n",
       "2736  2021-05-09   Kg       10       15     12.5  Tomato  tomate pequeno\n",
       "2737  2021-05-10   Kg       10       15     12.5  Tomato  tomate pequeno\n",
       "2738  2021-05-11   Kg       10       15     12.5  Tomato  tomate pequeno\n",
       "2739  2021-05-12   Kg       30       35     32.5  Tomato  tomate pequeno\n",
       "2740  2021-05-13   Kg       35       40     37.5  Tomato  tomate pequeno\n",
       "\n",
       "[1638 rows x 7 columns]"
      ]
     },
     "execution_count": 35,
     "metadata": {},
     "output_type": "execute_result"
    }
   ],
   "source": [
    "filtro = tomato_df[\"Average\"] < 40\n",
    "tomato_df.loc[filtro]"
   ]
  },
  {
   "cell_type": "markdown",
   "metadata": {},
   "source": [
    "### Learning about Numpy library"
   ]
  },
  {
   "cell_type": "markdown",
   "metadata": {},
   "source": [
    "np.array()"
   ]
  },
  {
   "cell_type": "code",
   "execution_count": 36,
   "metadata": {},
   "outputs": [],
   "source": [
    "arr_list = np.array([1,2,3,4,5,6,7,8,9])"
   ]
  },
  {
   "cell_type": "code",
   "execution_count": 37,
   "metadata": {},
   "outputs": [
    {
     "name": "stdout",
     "output_type": "stream",
     "text": [
      "[1 2 3 4 5 6 7 8 9]\n"
     ]
    }
   ],
   "source": [
    "print(arr_list)"
   ]
  },
  {
   "cell_type": "markdown",
   "metadata": {},
   "source": [
    "np.zeros()"
   ]
  },
  {
   "cell_type": "code",
   "execution_count": 38,
   "metadata": {},
   "outputs": [
    {
     "name": "stdout",
     "output_type": "stream",
     "text": [
      "[[0. 0. 0. 0. 0. 0.]\n",
      " [0. 0. 0. 0. 0. 0.]\n",
      " [0. 0. 0. 0. 0. 0.]\n",
      " [0. 0. 0. 0. 0. 0.]]\n"
     ]
    }
   ],
   "source": [
    "arr_zeros = np.zeros((4,6))\n",
    "print(arr_zeros)"
   ]
  },
  {
   "cell_type": "markdown",
   "metadata": {},
   "source": [
    "np.ones()"
   ]
  },
  {
   "cell_type": "code",
   "execution_count": 39,
   "metadata": {},
   "outputs": [
    {
     "name": "stdout",
     "output_type": "stream",
     "text": [
      "[[1. 1. 1. 1.]\n",
      " [1. 1. 1. 1.]\n",
      " [1. 1. 1. 1.]]\n"
     ]
    }
   ],
   "source": [
    "arr_ones = np.ones((3,4))\n",
    "print(arr_ones)"
   ]
  },
  {
   "cell_type": "markdown",
   "metadata": {},
   "source": [
    "np.random.rand()"
   ]
  },
  {
   "cell_type": "code",
   "execution_count": 40,
   "metadata": {},
   "outputs": [
    {
     "name": "stdout",
     "output_type": "stream",
     "text": [
      "[[0.98678057 0.10437365 0.4381399  0.91135639]\n",
      " [0.58274099 0.77699596 0.83153587 0.54710038]\n",
      " [0.95139865 0.91728031 0.49583126 0.31070727]]\n"
     ]
    }
   ],
   "source": [
    "arr_random = np.random.rand(3,4)\n",
    "print(arr_random)"
   ]
  },
  {
   "cell_type": "markdown",
   "metadata": {},
   "source": [
    "### Manipulating data with numpy"
   ]
  },
  {
   "cell_type": "markdown",
   "metadata": {},
   "source": [
    "reshape"
   ]
  },
  {
   "cell_type": "code",
   "execution_count": 41,
   "metadata": {},
   "outputs": [
    {
     "name": "stdout",
     "output_type": "stream",
     "text": [
      "[[0.98678057 0.10437365 0.4381399 ]\n",
      " [0.91135639 0.58274099 0.77699596]\n",
      " [0.83153587 0.54710038 0.95139865]\n",
      " [0.91728031 0.49583126 0.31070727]]\n"
     ]
    }
   ],
   "source": [
    "arr_random_reshape = arr_random.reshape((4,3))\n",
    "print(arr_random_reshape)"
   ]
  },
  {
   "cell_type": "markdown",
   "metadata": {},
   "source": [
    "concatenate"
   ]
  },
  {
   "cell_type": "code",
   "execution_count": 42,
   "metadata": {},
   "outputs": [],
   "source": [
    "arr1 = np.array([[1,2],[3,4]])\n",
    "arr2 = np.array([[5,6],[7,8]])\n",
    "arr3 = np.array([[9,10],[11,12]])"
   ]
  },
  {
   "cell_type": "code",
   "execution_count": 43,
   "metadata": {},
   "outputs": [
    {
     "name": "stdout",
     "output_type": "stream",
     "text": [
      "[[ 1  2  5  6  9 10]\n",
      " [ 3  4  7  8 11 12]]\n"
     ]
    }
   ],
   "source": [
    "arr4 = np.concatenate((arr1,arr2,arr3), axis=1) # axis -> dita o eixo da matriz pelo qual concatenar, 0 para linha e 1 para coluna\n",
    "print(arr4)"
   ]
  },
  {
   "cell_type": "markdown",
   "metadata": {},
   "source": [
    "split"
   ]
  },
  {
   "cell_type": "code",
   "execution_count": 44,
   "metadata": {},
   "outputs": [
    {
     "name": "stdout",
     "output_type": "stream",
     "text": [
      "[array([[ 1,  2,  5,  6,  9, 10]]), array([[ 3,  4,  7,  8, 11, 12]])]\n"
     ]
    }
   ],
   "source": [
    "arr4_split = np.split(arr4, 2)\n",
    "print(arr4_split)"
   ]
  },
  {
   "cell_type": "markdown",
   "metadata": {},
   "source": [
    "transpose"
   ]
  },
  {
   "cell_type": "code",
   "execution_count": 45,
   "metadata": {},
   "outputs": [
    {
     "name": "stdout",
     "output_type": "stream",
     "text": [
      "[[ 1  3]\n",
      " [ 2  4]\n",
      " [ 5  7]\n",
      " [ 6  8]\n",
      " [ 9 11]\n",
      " [10 12]]\n"
     ]
    }
   ],
   "source": [
    "arr4_transpose = np.transpose(arr4)\n",
    "print(arr4_transpose)"
   ]
  },
  {
   "cell_type": "markdown",
   "metadata": {},
   "source": [
    "### Doing mathematics with numpy"
   ]
  },
  {
   "cell_type": "markdown",
   "metadata": {},
   "source": [
    "add"
   ]
  },
  {
   "cell_type": "code",
   "execution_count": 46,
   "metadata": {},
   "outputs": [],
   "source": [
    "arr_a = np.array([1,7,27])\n",
    "arr_b = np.array([1,5,1])"
   ]
  },
  {
   "cell_type": "code",
   "execution_count": 47,
   "metadata": {},
   "outputs": [
    {
     "name": "stdout",
     "output_type": "stream",
     "text": [
      "[ 2 12 28]\n"
     ]
    }
   ],
   "source": [
    "arr_a_b = np.add(arr_a,arr_b)\n",
    "print(arr_a_b)"
   ]
  },
  {
   "cell_type": "markdown",
   "metadata": {},
   "source": [
    "subtract"
   ]
  },
  {
   "cell_type": "code",
   "execution_count": 48,
   "metadata": {},
   "outputs": [
    {
     "name": "stdout",
     "output_type": "stream",
     "text": [
      "[ 0  2 26]\n"
     ]
    }
   ],
   "source": [
    "arr_sub_a_b = np.subtract(arr_a,arr_b)\n",
    "print(arr_sub_a_b)"
   ]
  },
  {
   "cell_type": "markdown",
   "metadata": {},
   "source": [
    "## Learning about Matplotlib library"
   ]
  },
  {
   "cell_type": "code",
   "execution_count": 50,
   "metadata": {},
   "outputs": [
    {
     "data": {
      "text/html": [
       "<div>\n",
       "<style scoped>\n",
       "    .dataframe tbody tr th:only-of-type {\n",
       "        vertical-align: middle;\n",
       "    }\n",
       "\n",
       "    .dataframe tbody tr th {\n",
       "        vertical-align: top;\n",
       "    }\n",
       "\n",
       "    .dataframe thead th {\n",
       "        text-align: right;\n",
       "    }\n",
       "</style>\n",
       "<table border=\"1\" class=\"dataframe\">\n",
       "  <thead>\n",
       "    <tr style=\"text-align: right;\">\n",
       "      <th></th>\n",
       "      <th>Date</th>\n",
       "      <th>Unit</th>\n",
       "      <th>Minimum</th>\n",
       "      <th>Maximum</th>\n",
       "      <th>Average</th>\n",
       "      <th>Market</th>\n",
       "      <th>Category_tomato</th>\n",
       "    </tr>\n",
       "  </thead>\n",
       "  <tbody>\n",
       "    <tr>\n",
       "      <th>0</th>\n",
       "      <td>2013-06-16</td>\n",
       "      <td>Kg</td>\n",
       "      <td>26</td>\n",
       "      <td>32</td>\n",
       "      <td>29.0</td>\n",
       "      <td>Tomato</td>\n",
       "      <td>tomate pequeno</td>\n",
       "    </tr>\n",
       "    <tr>\n",
       "      <th>1</th>\n",
       "      <td>2013-06-17</td>\n",
       "      <td>Kg</td>\n",
       "      <td>20</td>\n",
       "      <td>25</td>\n",
       "      <td>22.5</td>\n",
       "      <td>Tomato</td>\n",
       "      <td>tomate pequeno</td>\n",
       "    </tr>\n",
       "    <tr>\n",
       "      <th>2</th>\n",
       "      <td>2013-06-18</td>\n",
       "      <td>Kg</td>\n",
       "      <td>22</td>\n",
       "      <td>26</td>\n",
       "      <td>24.0</td>\n",
       "      <td>Tomato</td>\n",
       "      <td>tomate pequeno</td>\n",
       "    </tr>\n",
       "    <tr>\n",
       "      <th>3</th>\n",
       "      <td>2013-06-19</td>\n",
       "      <td>Kg</td>\n",
       "      <td>24</td>\n",
       "      <td>28</td>\n",
       "      <td>26.0</td>\n",
       "      <td>Tomato</td>\n",
       "      <td>tomate pequeno</td>\n",
       "    </tr>\n",
       "    <tr>\n",
       "      <th>4</th>\n",
       "      <td>2013-06-20</td>\n",
       "      <td>Kg</td>\n",
       "      <td>22</td>\n",
       "      <td>26</td>\n",
       "      <td>24.0</td>\n",
       "      <td>Tomato</td>\n",
       "      <td>tomate pequeno</td>\n",
       "    </tr>\n",
       "  </tbody>\n",
       "</table>\n",
       "</div>"
      ],
      "text/plain": [
       "         Date Unit  Minimum  Maximum  Average  Market Category_tomato\n",
       "0  2013-06-16   Kg       26       32     29.0  Tomato  tomate pequeno\n",
       "1  2013-06-17   Kg       20       25     22.5  Tomato  tomate pequeno\n",
       "2  2013-06-18   Kg       22       26     24.0  Tomato  tomate pequeno\n",
       "3  2013-06-19   Kg       24       28     26.0  Tomato  tomate pequeno\n",
       "4  2013-06-20   Kg       22       26     24.0  Tomato  tomate pequeno"
      ]
     },
     "execution_count": 50,
     "metadata": {},
     "output_type": "execute_result"
    }
   ],
   "source": [
    "tomato_df.head()"
   ]
  },
  {
   "cell_type": "code",
   "execution_count": 51,
   "metadata": {},
   "outputs": [
    {
     "name": "stdout",
     "output_type": "stream",
     "text": [
      "<class 'pandas.core.frame.DataFrame'>\n",
      "RangeIndex: 2741 entries, 0 to 2740\n",
      "Data columns (total 7 columns):\n",
      " #   Column           Non-Null Count  Dtype  \n",
      "---  ------           --------------  -----  \n",
      " 0   Date             2741 non-null   object \n",
      " 1   Unit             2741 non-null   object \n",
      " 2   Minimum          2741 non-null   int64  \n",
      " 3   Maximum          2741 non-null   int64  \n",
      " 4   Average          2741 non-null   float64\n",
      " 5   Market           2741 non-null   object \n",
      " 6   Category_tomato  2741 non-null   object \n",
      "dtypes: float64(1), int64(2), object(4)\n",
      "memory usage: 150.0+ KB\n"
     ]
    }
   ],
   "source": [
    "tomato_df.info()"
   ]
  },
  {
   "cell_type": "code",
   "execution_count": 52,
   "metadata": {},
   "outputs": [],
   "source": [
    "tomato_df[\"Date\"] = pd.to_datetime(tomato_df[\"Date\"])"
   ]
  },
  {
   "cell_type": "code",
   "execution_count": 54,
   "metadata": {},
   "outputs": [
    {
     "name": "stdout",
     "output_type": "stream",
     "text": [
      "<class 'pandas.core.frame.DataFrame'>\n",
      "RangeIndex: 2741 entries, 0 to 2740\n",
      "Data columns (total 7 columns):\n",
      " #   Column           Non-Null Count  Dtype         \n",
      "---  ------           --------------  -----         \n",
      " 0   Date             2741 non-null   datetime64[ns]\n",
      " 1   Unit             2741 non-null   object        \n",
      " 2   Minimum          2741 non-null   int64         \n",
      " 3   Maximum          2741 non-null   int64         \n",
      " 4   Average          2741 non-null   float64       \n",
      " 5   Market           2741 non-null   object        \n",
      " 6   Category_tomato  2741 non-null   object        \n",
      "dtypes: datetime64[ns](1), float64(1), int64(2), object(3)\n",
      "memory usage: 150.0+ KB\n"
     ]
    }
   ],
   "source": [
    "tomato_df.info()"
   ]
  },
  {
   "cell_type": "markdown",
   "metadata": {},
   "source": [
    "### Line chart"
   ]
  },
  {
   "cell_type": "code",
   "execution_count": 57,
   "metadata": {},
   "outputs": [
    {
     "data": {
      "image/png": "[encoded data removed]",
      "text/plain": [
       "<Figure size 640x480 with 1 Axes>"
      ]
     },
     "metadata": {},
     "output_type": "display_data"
    }
   ],
   "source": [
    "plt.plot(tomato_df[\"Date\"], tomato_df[\"Average\"]) # (x,y)\n",
    "plt.xlabel(\"Data\")\n",
    "plt.ylabel(\"Média em kg de tomates\")\n",
    "plt.title(\"Média de tomates ao longo do tempo\")\n",
    "plt.show()"
   ]
  },
  {
   "cell_type": "markdown",
   "metadata": {},
   "source": [
    "### Scatter plot"
   ]
  },
  {
   "cell_type": "code",
   "execution_count": 58,
   "metadata": {},
   "outputs": [
    {
     "data": {
      "text/html": [
       "<div>\n",
       "<style scoped>\n",
       "    .dataframe tbody tr th:only-of-type {\n",
       "        vertical-align: middle;\n",
       "    }\n",
       "\n",
       "    .dataframe tbody tr th {\n",
       "        vertical-align: top;\n",
       "    }\n",
       "\n",
       "    .dataframe thead th {\n",
       "        text-align: right;\n",
       "    }\n",
       "</style>\n",
       "<table border=\"1\" class=\"dataframe\">\n",
       "  <thead>\n",
       "    <tr style=\"text-align: right;\">\n",
       "      <th></th>\n",
       "      <th>rated</th>\n",
       "      <th>created_at</th>\n",
       "      <th>last_move_at</th>\n",
       "      <th>turns</th>\n",
       "      <th>victory_status</th>\n",
       "      <th>winner</th>\n",
       "      <th>increment_code</th>\n",
       "      <th>white_id</th>\n",
       "      <th>white_rating</th>\n",
       "      <th>black_id</th>\n",
       "      <th>black_rating</th>\n",
       "      <th>opening_eco</th>\n",
       "      <th>opening_name</th>\n",
       "      <th>opening_ply</th>\n",
       "    </tr>\n",
       "  </thead>\n",
       "  <tbody>\n",
       "    <tr>\n",
       "      <th>0</th>\n",
       "      <td>False</td>\n",
       "      <td>1.504210e+17</td>\n",
       "      <td>1.504210e+17</td>\n",
       "      <td>13</td>\n",
       "      <td>outoftime</td>\n",
       "      <td>white</td>\n",
       "      <td>15+2</td>\n",
       "      <td>bourgris</td>\n",
       "      <td>1500</td>\n",
       "      <td>a-00</td>\n",
       "      <td>1191</td>\n",
       "      <td>D10</td>\n",
       "      <td>Slav Defense: Exchange Variation</td>\n",
       "      <td>5</td>\n",
       "    </tr>\n",
       "    <tr>\n",
       "      <th>1</th>\n",
       "      <td>True</td>\n",
       "      <td>1.504130e+17</td>\n",
       "      <td>1.504130e+17</td>\n",
       "      <td>16</td>\n",
       "      <td>resign</td>\n",
       "      <td>black</td>\n",
       "      <td>5+10</td>\n",
       "      <td>a-00</td>\n",
       "      <td>1322</td>\n",
       "      <td>skinnerua</td>\n",
       "      <td>1261</td>\n",
       "      <td>B00</td>\n",
       "      <td>Nimzowitsch Defense: Kennedy Variation</td>\n",
       "      <td>4</td>\n",
       "    </tr>\n",
       "    <tr>\n",
       "      <th>2</th>\n",
       "      <td>True</td>\n",
       "      <td>1.504130e+17</td>\n",
       "      <td>1.504130e+17</td>\n",
       "      <td>61</td>\n",
       "      <td>mate</td>\n",
       "      <td>white</td>\n",
       "      <td>5+10</td>\n",
       "      <td>ischia</td>\n",
       "      <td>1496</td>\n",
       "      <td>a-00</td>\n",
       "      <td>1500</td>\n",
       "      <td>C20</td>\n",
       "      <td>King's Pawn Game: Leonardis Variation</td>\n",
       "      <td>3</td>\n",
       "    </tr>\n",
       "    <tr>\n",
       "      <th>3</th>\n",
       "      <td>True</td>\n",
       "      <td>1.504110e+17</td>\n",
       "      <td>1.504110e+17</td>\n",
       "      <td>61</td>\n",
       "      <td>mate</td>\n",
       "      <td>white</td>\n",
       "      <td>20+0</td>\n",
       "      <td>daniamurashov</td>\n",
       "      <td>1439</td>\n",
       "      <td>adivanov2009</td>\n",
       "      <td>1454</td>\n",
       "      <td>D02</td>\n",
       "      <td>Queen's Pawn Game: Zukertort Variation</td>\n",
       "      <td>3</td>\n",
       "    </tr>\n",
       "    <tr>\n",
       "      <th>4</th>\n",
       "      <td>True</td>\n",
       "      <td>1.504030e+17</td>\n",
       "      <td>1.504030e+17</td>\n",
       "      <td>95</td>\n",
       "      <td>mate</td>\n",
       "      <td>white</td>\n",
       "      <td>30+3</td>\n",
       "      <td>nik221107</td>\n",
       "      <td>1523</td>\n",
       "      <td>adivanov2009</td>\n",
       "      <td>1469</td>\n",
       "      <td>C41</td>\n",
       "      <td>Philidor Defense</td>\n",
       "      <td>5</td>\n",
       "    </tr>\n",
       "  </tbody>\n",
       "</table>\n",
       "</div>"
      ],
      "text/plain": [
       "   rated    created_at  last_move_at  turns victory_status winner  \\\n",
       "0  False  1.504210e+17  1.504210e+17     13      outoftime  white   \n",
       "1   True  1.504130e+17  1.504130e+17     16         resign  black   \n",
       "2   True  1.504130e+17  1.504130e+17     61           mate  white   \n",
       "3   True  1.504110e+17  1.504110e+17     61           mate  white   \n",
       "4   True  1.504030e+17  1.504030e+17     95           mate  white   \n",
       "\n",
       "  increment_code       white_id  white_rating      black_id  black_rating  \\\n",
       "0           15+2       bourgris          1500          a-00          1191   \n",
       "1           5+10           a-00          1322     skinnerua          1261   \n",
       "2           5+10         ischia          1496          a-00          1500   \n",
       "3           20+0  daniamurashov          1439  adivanov2009          1454   \n",
       "4           30+3      nik221107          1523  adivanov2009          1469   \n",
       "\n",
       "  opening_eco                            opening_name  opening_ply  \n",
       "0         D10        Slav Defense: Exchange Variation            5  \n",
       "1         B00  Nimzowitsch Defense: Kennedy Variation            4  \n",
       "2         C20   King's Pawn Game: Leonardis Variation            3  \n",
       "3         D02  Queen's Pawn Game: Zukertort Variation            3  \n",
       "4         C41                        Philidor Defense            5  "
      ]
     },
     "execution_count": 58,
     "metadata": {},
     "output_type": "execute_result"
    }
   ],
   "source": [
    "chess_df.head()"
   ]
  },
  {
   "cell_type": "code",
   "execution_count": 59,
   "metadata": {},
   "outputs": [
    {
     "data": {
      "image/png": "[encoded data removed]",
      "text/plain": [
       "<Figure size 640x480 with 1 Axes>"
      ]
     },
     "metadata": {},
     "output_type": "display_data"
    }
   ],
   "source": [
    "plt.scatter(chess_df[\"black_rating\"], chess_df[\"white_rating\"])\n",
    "plt.xlabel(\"Black\")\n",
    "plt.ylabel(\"White\")\n",
    "plt.title(\"Partidas de peças pretas x peças brancas\")\n",
    "plt.show()"
   ]
  },
  {
   "cell_type": "markdown",
   "metadata": {},
   "source": [
    "### Bar chart"
   ]
  },
  {
   "cell_type": "code",
   "execution_count": 61,
   "metadata": {},
   "outputs": [
    {
     "data": {
      "image/png": "[encoded data removed]",
      "text/plain": [
       "<Figure size 640x480 with 1 Axes>"
      ]
     },
     "metadata": {},
     "output_type": "display_data"
    }
   ],
   "source": [
    "plt.bar(tomato_df[\"Category_tomato\"], tomato_df[\"Average\"])\n",
    "plt.xlabel(\"Categoria de tomate\")\n",
    "plt.ylabel(\"Média\")\n",
    "plt.title(\"Média de tomates por categoria\")\n",
    "plt.show()"
   ]
  },
  {
   "cell_type": "markdown",
   "metadata": {},
   "source": [
    "### Pie chart"
   ]
  },
  {
   "cell_type": "code",
   "execution_count": 66,
   "metadata": {},
   "outputs": [
    {
     "data": {
      "text/plain": [
       "{'draw', 'mate', 'outoftime', 'resign'}"
      ]
     },
     "execution_count": 66,
     "metadata": {},
     "output_type": "execute_result"
    }
   ],
   "source": [
    "set(chess_df['victory_status'])"
   ]
  },
  {
   "cell_type": "code",
   "execution_count": 72,
   "metadata": {},
   "outputs": [
    {
     "data": {
      "text/html": [
       "<div>\n",
       "<style scoped>\n",
       "    .dataframe tbody tr th:only-of-type {\n",
       "        vertical-align: middle;\n",
       "    }\n",
       "\n",
       "    .dataframe tbody tr th {\n",
       "        vertical-align: top;\n",
       "    }\n",
       "\n",
       "    .dataframe thead th {\n",
       "        text-align: right;\n",
       "    }\n",
       "</style>\n",
       "<table border=\"1\" class=\"dataframe\">\n",
       "  <thead>\n",
       "    <tr style=\"text-align: right;\">\n",
       "      <th></th>\n",
       "      <th>rated</th>\n",
       "      <th>created_at</th>\n",
       "      <th>last_move_at</th>\n",
       "      <th>turns</th>\n",
       "      <th>winner</th>\n",
       "      <th>increment_code</th>\n",
       "      <th>white_id</th>\n",
       "      <th>white_rating</th>\n",
       "      <th>black_id</th>\n",
       "      <th>black_rating</th>\n",
       "      <th>opening_eco</th>\n",
       "      <th>opening_name</th>\n",
       "      <th>opening_ply</th>\n",
       "    </tr>\n",
       "    <tr>\n",
       "      <th>victory_status</th>\n",
       "      <th></th>\n",
       "      <th></th>\n",
       "      <th></th>\n",
       "      <th></th>\n",
       "      <th></th>\n",
       "      <th></th>\n",
       "      <th></th>\n",
       "      <th></th>\n",
       "      <th></th>\n",
       "      <th></th>\n",
       "      <th></th>\n",
       "      <th></th>\n",
       "      <th></th>\n",
       "    </tr>\n",
       "  </thead>\n",
       "  <tbody>\n",
       "    <tr>\n",
       "      <th>draw</th>\n",
       "      <td>906</td>\n",
       "      <td>906</td>\n",
       "      <td>906</td>\n",
       "      <td>906</td>\n",
       "      <td>906</td>\n",
       "      <td>906</td>\n",
       "      <td>906</td>\n",
       "      <td>906</td>\n",
       "      <td>906</td>\n",
       "      <td>906</td>\n",
       "      <td>906</td>\n",
       "      <td>906</td>\n",
       "      <td>906</td>\n",
       "    </tr>\n",
       "    <tr>\n",
       "      <th>mate</th>\n",
       "      <td>6325</td>\n",
       "      <td>6325</td>\n",
       "      <td>6325</td>\n",
       "      <td>6325</td>\n",
       "      <td>6325</td>\n",
       "      <td>6325</td>\n",
       "      <td>6325</td>\n",
       "      <td>6325</td>\n",
       "      <td>6325</td>\n",
       "      <td>6325</td>\n",
       "      <td>6325</td>\n",
       "      <td>6325</td>\n",
       "      <td>6325</td>\n",
       "    </tr>\n",
       "    <tr>\n",
       "      <th>outoftime</th>\n",
       "      <td>1680</td>\n",
       "      <td>1680</td>\n",
       "      <td>1680</td>\n",
       "      <td>1680</td>\n",
       "      <td>1680</td>\n",
       "      <td>1680</td>\n",
       "      <td>1680</td>\n",
       "      <td>1680</td>\n",
       "      <td>1680</td>\n",
       "      <td>1680</td>\n",
       "      <td>1680</td>\n",
       "      <td>1680</td>\n",
       "      <td>1680</td>\n",
       "    </tr>\n",
       "    <tr>\n",
       "      <th>resign</th>\n",
       "      <td>11147</td>\n",
       "      <td>11147</td>\n",
       "      <td>11147</td>\n",
       "      <td>11147</td>\n",
       "      <td>11147</td>\n",
       "      <td>11147</td>\n",
       "      <td>11147</td>\n",
       "      <td>11147</td>\n",
       "      <td>11147</td>\n",
       "      <td>11147</td>\n",
       "      <td>11147</td>\n",
       "      <td>11147</td>\n",
       "      <td>11147</td>\n",
       "    </tr>\n",
       "  </tbody>\n",
       "</table>\n",
       "</div>"
      ],
      "text/plain": [
       "                rated  created_at  last_move_at  turns  winner  \\\n",
       "victory_status                                                   \n",
       "draw              906         906           906    906     906   \n",
       "mate             6325        6325          6325   6325    6325   \n",
       "outoftime        1680        1680          1680   1680    1680   \n",
       "resign          11147       11147         11147  11147   11147   \n",
       "\n",
       "                increment_code  white_id  white_rating  black_id  \\\n",
       "victory_status                                                     \n",
       "draw                       906       906           906       906   \n",
       "mate                      6325      6325          6325      6325   \n",
       "outoftime                 1680      1680          1680      1680   \n",
       "resign                   11147     11147         11147     11147   \n",
       "\n",
       "                black_rating  opening_eco  opening_name  opening_ply  \n",
       "victory_status                                                        \n",
       "draw                     906          906           906          906  \n",
       "mate                    6325         6325          6325         6325  \n",
       "outoftime               1680         1680          1680         1680  \n",
       "resign                 11147        11147         11147        11147  "
      ]
     },
     "execution_count": 72,
     "metadata": {},
     "output_type": "execute_result"
    }
   ],
   "source": [
    "chess_df.groupby([\"victory_status\"]).count()"
   ]
  },
  {
   "cell_type": "code",
   "execution_count": 71,
   "metadata": {},
   "outputs": [
    {
     "data": {
      "image/png": "[encoded data removed]",
      "text/plain": [
       "<Figure size 640x480 with 1 Axes>"
      ]
     },
     "metadata": {},
     "output_type": "display_data"
    }
   ],
   "source": [
    "chess_df.groupby([\"victory_status\"]).count().plot(kind=\"pie\",y='turns', autopct=\"%1.0f%%\")\n",
    "plt.title(\"Média de partidas dentro de status de vitória\")\n",
    "plt.show()"
   ]
  }
 ],
 "metadata": {
  "kernelspec": {
   "display_name": "Python 3",
   "language": "python",
   "name": "python3"
  },
  "language_info": {
   "codemirror_mode": {
    "name": "ipython",
    "version": 3
   },
   "file_extension": ".py",
   "mimetype": "text/x-python",
   "name": "python",
   "nbconvert_exporter": "python",
   "pygments_lexer": "ipython3",
   "version": "3.8.10"
  }
 },
 "nbformat": 4,
 "nbformat_minor": 2
}
